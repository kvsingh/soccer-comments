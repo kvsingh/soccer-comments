{
 "cells": [
  {
   "cell_type": "code",
   "execution_count": 2,
   "metadata": {},
   "outputs": [
    {
     "name": "stdout",
     "output_type": "stream",
     "text": [
      "liverpoolfc\n",
      "10146\n",
      "soccer\n",
      "31984\n",
      "Gunners\n",
      "9577\n",
      "reddevils\n",
      "9517\n",
      "chelseafc\n",
      "7868\n",
      "42319\n"
     ]
    }
   ],
   "source": [
    "import pickle\n",
    "from config import *\n",
    "import matplotlib.pyplot as plt\n",
    "from nltk import NaiveBayesClassifier\n",
    "comment_tokens = pickle.load(open(\"comment_tokens.p\", \"rb\"))\n",
    "\n",
    "all_tokens = set()\n",
    "all_tokens_size = {}\n",
    "\n",
    "for subreddit in subreddits:\n",
    "    print subreddit\n",
    "    this_subreddit_tokens = set()\n",
    "    this_comment_tokens = comment_tokens[subreddit]    \n",
    "    for comment in this_comment_tokens:\n",
    "        for t in comment:\n",
    "            all_tokens.add(t)\n",
    "            this_subreddit_tokens.add(t)\n",
    "    print len(this_subreddit_tokens)\n",
    "\n",
    "print len(all_tokens)"
   ]
  },
  {
   "cell_type": "code",
   "execution_count": null,
   "metadata": {
    "collapsed": true
   },
   "outputs": [],
   "source": []
  }
 ],
 "metadata": {
  "kernelspec": {
   "display_name": "Python 2",
   "language": "python",
   "name": "python2"
  },
  "language_info": {
   "codemirror_mode": {
    "name": "ipython",
    "version": 2
   },
   "file_extension": ".py",
   "mimetype": "text/x-python",
   "name": "python",
   "nbconvert_exporter": "python",
   "pygments_lexer": "ipython2",
   "version": "2.7.12"
  }
 },
 "nbformat": 4,
 "nbformat_minor": 2
}
