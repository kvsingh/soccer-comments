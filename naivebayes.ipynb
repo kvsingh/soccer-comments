{
 "cells": [
  {
   "cell_type": "code",
   "execution_count": 3,
   "metadata": {
    "collapsed": true
   },
   "outputs": [],
   "source": [
    "import pickle\n",
    "from config import *\n",
    "import matplotlib.pyplot as plt"
   ]
  },
  {
   "cell_type": "code",
   "execution_count": 4,
   "metadata": {},
   "outputs": [],
   "source": [
    "comment_tokens = pickle.load(open(\"comment_tokens.p\", \"rb\"))\n",
    "all_tokens_set = set()\n",
    "subreddit_tokens_set = {}\n",
    "all_tokens_size = {}\n",
    "train_features = []"
   ]
  },
  {
   "cell_type": "code",
   "execution_count": 6,
   "metadata": {},
   "outputs": [
    {
     "name": "stdout",
     "output_type": "stream",
     "text": [
      "soccer\n",
      "31984\n",
      "liverpoolfc\n",
      "10146\n",
      "Gunners\n",
      "9577\n",
      "reddevils\n",
      "9517\n",
      "chelseafc\n",
      "7868\n",
      "42319\n"
     ]
    }
   ],
   "source": [
    "for subreddit in subreddits:\n",
    "    print subreddit\n",
    "    this_subreddit_tokens = set()\n",
    "    this_comment_tokens = comment_tokens[subreddit]    \n",
    "    for comment in this_comment_tokens:\n",
    "        for t in comment:\n",
    "            all_tokens_set.add(t)\n",
    "            this_subreddit_tokens.add(t)\n",
    "    print len(this_subreddit_tokens)\n",
    "    subreddit_tokens_set[subreddit] = this_subreddit_tokens\n",
    "\n",
    "print len(all_tokens_set)"
   ]
  },
  {
   "cell_type": "code",
   "execution_count": 40,
   "metadata": {},
   "outputs": [
    {
     "name": "stdout",
     "output_type": "stream",
     "text": [
      "['huge', 'thanks', 'everyone', 'contributed']\n"
     ]
    }
   ],
   "source": [
    "print comment_tokens[\"liverpoolfc\"][0]"
   ]
  },
  {
   "cell_type": "code",
   "execution_count": 5,
   "metadata": {},
   "outputs": [
    {
     "name": "stdout",
     "output_type": "stream",
     "text": [
      "soccer 31195 7799\n",
      "31195 7799\n",
      "liverpoolfc 5866 1467\n",
      "5866 1467\n",
      "Gunners 5120 1280\n",
      "5120 1280\n",
      "reddevils 5283 1321\n",
      "5283 1321\n",
      "chelseafc 3680 921\n",
      "3680 921\n",
      "51144 12788\n"
     ]
    }
   ],
   "source": [
    "train_features = []\n",
    "test_features = []\n",
    "train_labels = []\n",
    "test_labels = []\n",
    "import math\n",
    "\n",
    "for subreddit in subreddits:\n",
    "    this_comment_tokens = comment_tokens[subreddit]\n",
    "    num_comments = len(this_comment_tokens)\n",
    "    num_train_comments = int(math.floor(num_comments*0.8))\n",
    "    num_test_comments =  num_comments - num_train_comments\n",
    "    print subreddit, num_train_comments, num_test_comments\n",
    "    train_comments = this_comment_tokens[:num_train_comments]\n",
    "    test_comments = this_comment_tokens[num_train_comments:]\n",
    "    print len(train_comments), len(test_comments)\n",
    "    \n",
    "    for comment in train_comments:\n",
    "        #feature = ({word: (word in comment) for word in all_tokens_set}, subreddit)\n",
    "        feature = \"\"\n",
    "        for word in comment:\n",
    "            feature += word + \" \"\n",
    "        train_features.append(feature[:-1])\n",
    "        train_labels.append(subreddit)\n",
    "    for comment in test_comments:\n",
    "        feature = \"\"\n",
    "        for word in comment:\n",
    "            feature += word + \" \"\n",
    "        test_features.append(feature[:-1])\n",
    "        test_labels.append(subreddit)\n",
    "        \n",
    "print len(train_features), len(test_features)"
   ]
  },
  {
   "cell_type": "code",
   "execution_count": 6,
   "metadata": {},
   "outputs": [
    {
     "name": "stdout",
     "output_type": "stream",
     "text": [
      "63932\n",
      "51144\n"
     ]
    },
    {
     "data": {
      "text/plain": [
       "(12788, 42319)"
      ]
     },
     "execution_count": 6,
     "metadata": {},
     "output_type": "execute_result"
    }
   ],
   "source": [
    "from sklearn.feature_extraction.text import CountVectorizer\n",
    "corpus = train_features[:]\n",
    "corpus.extend(test_features)\n",
    "print len(corpus)\n",
    "print len(train_features)\n",
    "\n",
    "vectorizer = CountVectorizer()\n",
    "vect = vectorizer.fit(corpus)\n",
    "vocab = vect.vocabulary_\n",
    "\n",
    "new_vectorizer = CountVectorizer(vocabulary=vocab)\n",
    "new_vectorizer._validate_vocabulary()\n",
    "X_train = new_vectorizer.transform(train_features)\n",
    "X_train.shape\n",
    "X_test = new_vectorizer.transform(test_features)\n",
    "X_test.shape"
   ]
  },
  {
   "cell_type": "code",
   "execution_count": 10,
   "metadata": {
    "scrolled": true
   },
   "outputs": [
    {
     "data": {
      "text/plain": [
       "0.56670315921176106"
      ]
     },
     "execution_count": 10,
     "metadata": {},
     "output_type": "execute_result"
    }
   ],
   "source": [
    "from sklearn.naive_bayes import MultinomialNB\n",
    "from sklearn import metrics\n",
    "\n",
    "clf = MultinomialNB(alpha=.01)\n",
    "clf.fit(X_train, train_labels)\n",
    "pred = clf.predict(X_test)\n",
    "metrics.accuracy_score(test_labels, pred)"
   ]
  },
  {
   "cell_type": "code",
   "execution_count": null,
   "metadata": {
    "collapsed": true
   },
   "outputs": [],
   "source": []
  }
 ],
 "metadata": {
  "kernelspec": {
   "display_name": "Python 2",
   "language": "python",
   "name": "python2"
  },
  "language_info": {
   "codemirror_mode": {
    "name": "ipython",
    "version": 2
   },
   "file_extension": ".py",
   "mimetype": "text/x-python",
   "name": "python",
   "nbconvert_exporter": "python",
   "pygments_lexer": "ipython2",
   "version": "2.7.12"
  }
 },
 "nbformat": 4,
 "nbformat_minor": 2
}
