{
 "cells": [
  {
   "cell_type": "code",
   "execution_count": 27,
   "metadata": {
    "collapsed": true
   },
   "outputs": [],
   "source": [
    "from nltk import word_tokenize\n",
    "import pickle\n",
    "import matplotlib.pyplot as plt\n",
    "%matplotlib inline\n",
    "import numpy\n",
    "from wordcloud import WordCloud\n",
    "from nltk.stem import WordNetLemmatizer\n",
    "wordnet_lemmatizer = WordNetLemmatizer()"
   ]
  },
  {
   "cell_type": "code",
   "execution_count": 38,
   "metadata": {},
   "outputs": [
    {
     "name": "stdout",
     "output_type": "stream",
     "text": [
      "soccer 39005\n",
      "liverpoolfc 7363\n",
      "reddevils 6606\n",
      "Gunners 6462\n",
      "chelseafc 4617\n"
     ]
    }
   ],
   "source": [
    "\n",
    "all_comments = {}\n",
    "for subreddit in subreddits:\n",
    "    all_comments[subreddit] = pickle.load(open(\"reddit-top-1000-post-comments-\" + subreddit + \".p\", \"rb\"))\n",
    "    print subreddit , len(all_comments[subreddit])"
   ]
  },
  {
   "cell_type": "code",
   "execution_count": 39,
   "metadata": {},
   "outputs": [
    {
     "name": "stdout",
     "output_type": "stream",
     "text": [
      "soccer 38994\n",
      "liverpoolfc 7333\n",
      "reddevils 6604\n",
      "Gunners 6400\n",
      "chelseafc 4601\n"
     ]
    }
   ],
   "source": [
    "import re\n",
    "import unicodedata\n",
    "comments_modified = {}\n",
    "for subreddit in subreddits:\n",
    "    this_comments_modified = []\n",
    "    for comment in all_comments[subreddit]:\n",
    "        comment_mod = unicodedata.normalize('NFKD', comment[1]).encode('ascii','ignore')\n",
    "        comment_mod = re.sub(r\"\\n\", \"\", comment_mod)\n",
    "        comment_mod = re.sub(r\"'s\", \"\", comment_mod)\n",
    "        if comment_mod != \"[removed]\":\n",
    "            this_comments_modified.append([comment_mod, comment[0]])\n",
    "    comments_modified[subreddit] = this_comments_modified\n",
    "    print subreddit, len(comments_modified[subreddit])"
   ]
  },
  {
   "cell_type": "code",
   "execution_count": 59,
   "metadata": {},
   "outputs": [
    {
     "name": "stdout",
     "output_type": "stream",
     "text": [
      "[['Huge thanks to everyone who contributed. ', u'dp72lbc'], ['This the meet up point now then? ', u'dp7213g'], [\"I'm just glad you went with unified instead of united.\", u'dp72gu5'], ['\"Sorry we had to take r/LiverpoolFC off... The Stone-Mason said it wouldn\\'t fit\" ', u'dp725sm'], ['Haha that boss', u'dp71sui'], [\"It looks awesome in the Steven Gerrard section. I'll get more photos and a little video up when I can!\", u'dp71u28'], [\"That is great. Next time I get over to Anfield I'll def check it out.\", u'dp71w7r'], ['No way! My mother bought me one for my birthday this last year and I can see it in the picture! I just sent her this and were both floored! I took her to her first game at Anfield (opener vs Stoke 13/14 Migs penalty save) and weve been planning to go back and see the stone in person. This just makes us want to go even more! Cheers reds!', u'dp78age'], ['I feel that bot should come along and correct the capital R/On my way to the ground now it dark but will take a look for it', u'dp75kps'], ['Palace fan here. Well done. ', u'dp7btw6'], ['The size of that lads', u'dp72coq'], ['Why would you get a stone saying happy birthday on it? The stone will be there for years.', u'dp76jhi'], ['It beautiful ;-;', u'dp724o9'], ['This makes me proud to be apart of this sub, and proud to be a red! Up the reds!', u'dp76sav'], ['Like how much are these? Asking for a friend... ', u'dp7a9bq'], ['That awesome. I wish I had known of it, I would gladly have contributed. ', u'dp7kmg9'], ['Where is Anfiled? ', u'dp72kgn'], ['ohh what a beautyy.', u'dp74cj0'], ['That leaf looks like an early RPG rat.', u'dp7as0z'], ['Heh, that quite nice actually', u'dp7brev']]\n",
      "liverpoolfc\n",
      "0\n",
      "1000\n",
      "2000\n",
      "3000\n",
      "4000\n",
      "5000\n",
      "6000\n",
      "7000\n",
      "soccer\n",
      "0\n",
      "1000\n",
      "2000\n",
      "3000\n",
      "4000\n",
      "5000\n",
      "6000\n",
      "7000\n",
      "8000\n",
      "9000\n",
      "10000\n",
      "11000\n",
      "12000\n",
      "13000\n",
      "14000\n",
      "15000\n",
      "16000\n",
      "17000\n",
      "18000\n",
      "19000\n",
      "20000\n",
      "21000\n",
      "22000\n",
      "23000\n",
      "24000\n",
      "25000\n",
      "26000\n",
      "27000\n",
      "28000\n",
      "29000\n",
      "30000\n",
      "31000\n",
      "32000\n",
      "33000\n",
      "34000\n",
      "35000\n",
      "36000\n",
      "37000\n",
      "38000\n",
      "Gunners\n",
      "0\n",
      "1000\n",
      "2000\n",
      "3000\n",
      "4000\n",
      "5000\n",
      "6000\n",
      "reddevils\n",
      "0\n",
      "1000\n",
      "2000\n",
      "3000\n",
      "4000\n",
      "5000\n",
      "6000\n",
      "chelseafc\n",
      "0\n",
      "1000\n",
      "2000\n",
      "3000\n",
      "4000\n"
     ]
    }
   ],
   "source": [
    "print comments_modified[\"liverpoolfc\"][:20]\n",
    "#print all_comments[\"liverpoolfc\"][:5]\n",
    "comment_tokens = {}\n",
    "from nltk.stem import WordNetLemmatizer\n",
    "from nltk.tokenize import word_tokenize\n",
    "from nltk.corpus import stopwords\n",
    "import string\n",
    "\n",
    "translate_table = dict((ord(char), None) for char in string.punctuation)\n",
    "\n",
    "wordnet_lemmatizer = WordNetLemmatizer()\n",
    "subreddits = [\"liverpoolfc\", \"soccer\", \"Gunners\", \"reddevils\", \"chelseafc\"]\n",
    "for subreddit in subreddits:\n",
    "    print subreddit\n",
    "    comments = comments_modified[subreddit]\n",
    "    this_tokens = []\n",
    "    i = 0\n",
    "    for comment in comments:\n",
    "        if i%1000==0:\n",
    "            print i\n",
    "        i+=1\n",
    "        tokens = word_tokenize(comment[0])\n",
    "        tokens = [t.lower() for t in tokens]\n",
    "        tokens = [wordnet_lemmatizer.lemmatize(t) for t in tokens]\n",
    "        tokens = filter(lambda a: a not in stopwords.words('english'), tokens)\n",
    "        tokens = [re.sub(r'[^\\w\\s]','',s) for s in tokens]\n",
    "        tokens = filter(lambda a: len(a) > 2, tokens)\n",
    "        this_tokens.append(tokens)\n",
    "        \n",
    "    comment_tokens[subreddit] = this_tokens\n",
    "pickle.dump(comment_tokens, open(\"comment_tokens.p\", \"wb\"))\n",
    "#print comment_tokens[\"liverpoolfc\"][:20]"
   ]
  },
  {
   "cell_type": "code",
   "execution_count": 24,
   "metadata": {},
   "outputs": [
    {
     "data": {
      "image/png": "[encoded data removed]",
      "text/plain": [
       "<matplotlib.figure.Figure at 0x7f6c4e6c51d0>"
      ]
     },
     "metadata": {},
     "output_type": "display_data"
    },
    {
     "data": {
      "image/png": "[encoded data removed]",
      "text/plain": [
       "<matplotlib.figure.Figure at 0x7f6c423e0f90>"
      ]
     },
     "metadata": {},
     "output_type": "display_data"
    }
   ],
   "source": [
    "from nltk.sentiment.vader import SentimentIntensityAnalyzer\n",
    "import pandas as pd\n",
    "import matplotlib.pyplot as plt\n",
    "%matplotlib inline\n",
    "plt.rcParams['figure.figsize'] = (8,6)\n",
    "\n",
    "sid = SentimentIntensityAnalyzer()\n",
    "df = pd.DataFrame(columns=('subreddit', 'pos', 'neu', 'neg'))\n",
    "i=0\n",
    "comps = []\n",
    "\n",
    "for subreddit in subreddits:\n",
    "    num_positive = 0\n",
    "    num_negative = 0\n",
    "    num_neutral = 0    \n",
    "    comments = comments_modified[subreddit]\n",
    "    for comment in comments:\n",
    "        comp = sid.polarity_scores(comment[0])\n",
    "        comp = comp['compound']\n",
    "        comps.append([comment[0], comp])\n",
    "        if comp >= 0.5:\n",
    "            num_positive += 1\n",
    "        elif comp > -0.5 and comp < 0.5:\n",
    "            num_neutral += 1\n",
    "        else:\n",
    "            num_negative += 1\n",
    "    num_total = num_negative + num_neutral + num_positive\n",
    "    percent_negative = (num_negative/float(num_total))*100\n",
    "    percent_neutral = (num_neutral/float(num_total))*100\n",
    "    percent_positive = (num_positive/float(num_total))*100\n",
    "    df.loc[i] = (subreddit, percent_positive, percent_neutral, percent_negative)\n",
    "    i+=1\n",
    "    \n",
    "df.plot.bar(x='subreddit', stacked=True)\n",
    "plt.show() \n",
    "\n",
    "plt.hist([c[1] for c in comps])\n",
    "plt.show()"
   ]
  },
  {
   "cell_type": "code",
   "execution_count": null,
   "metadata": {
    "collapsed": true
   },
   "outputs": [],
   "source": []
  },
  {
   "cell_type": "code",
   "execution_count": 26,
   "metadata": {},
   "outputs": [
    {
     "data": {
      "text/html": [
       "<div>\n",
       "<table border=\"1\" class=\"dataframe\">\n",
       "  <thead>\n",
       "    <tr style=\"text-align: right;\">\n",
       "      <th></th>\n",
       "      <th>subreddit</th>\n",
       "      <th>pos</th>\n",
       "      <th>neu</th>\n",
       "      <th>neg</th>\n",
       "    </tr>\n",
       "  </thead>\n",
       "  <tbody>\n",
       "    <tr>\n",
       "      <th>0</th>\n",
       "      <td>soccer</td>\n",
       "      <td>21.736677</td>\n",
       "      <td>67.320613</td>\n",
       "      <td>10.942709</td>\n",
       "    </tr>\n",
       "    <tr>\n",
       "      <th>1</th>\n",
       "      <td>liverpoolfc</td>\n",
       "      <td>25.582981</td>\n",
       "      <td>62.702850</td>\n",
       "      <td>11.714169</td>\n",
       "    </tr>\n",
       "    <tr>\n",
       "      <th>2</th>\n",
       "      <td>reddevils</td>\n",
       "      <td>27.437916</td>\n",
       "      <td>62.295578</td>\n",
       "      <td>10.266505</td>\n",
       "    </tr>\n",
       "    <tr>\n",
       "      <th>3</th>\n",
       "      <td>Gunners</td>\n",
       "      <td>24.218750</td>\n",
       "      <td>65.671875</td>\n",
       "      <td>10.109375</td>\n",
       "    </tr>\n",
       "    <tr>\n",
       "      <th>4</th>\n",
       "      <td>chelseafc</td>\n",
       "      <td>27.472289</td>\n",
       "      <td>61.204086</td>\n",
       "      <td>11.323625</td>\n",
       "    </tr>\n",
       "  </tbody>\n",
       "</table>\n",
       "</div>"
      ],
      "text/plain": [
       "     subreddit        pos        neu        neg\n",
       "0       soccer  21.736677  67.320613  10.942709\n",
       "1  liverpoolfc  25.582981  62.702850  11.714169\n",
       "2    reddevils  27.437916  62.295578  10.266505\n",
       "3      Gunners  24.218750  65.671875  10.109375\n",
       "4    chelseafc  27.472289  61.204086  11.323625"
      ]
     },
     "execution_count": 26,
     "metadata": {},
     "output_type": "execute_result"
    }
   ],
   "source": [
    "df\n",
    "#print comps[:10]"
   ]
  },
  {
   "cell_type": "code",
   "execution_count": 7,
   "metadata": {},
   "outputs": [
    {
     "name": "stdout",
     "output_type": "stream",
     "text": [
      "[u'Huge thanks to everyone who contributed. ', u'This the meet up point now then? ', u\"I'm just glad you went with unified instead of united.\", u'\"Sorry we had to take r/LiverpoolFC off... The Stone-Mason said it wouldn\\'t fit\" \\U0001f440', u\"Haha that's boss\", u\"It looks awesome in the Steven Gerrard section. \\n\\nI'll get more photos and a little video up when I can!\", u\"That is great. Next time I get over to Anfield I'll def check it out.\", u'No way! My mother bought me one for my birthday this last year and I can see it in the picture! I just sent her this and we\\u2019re both floored! I took her to her first game at Anfield (opener vs Stoke 13/14 Migs penalty save) and we\\u2019ve been planning to go back and see the stone in person. This just makes us want to go even more! Cheers reds!', u\"I feel that bot should come along and correct the capital R/\\n\\nOn my way to the ground now it's dark but will take a look for it\", u'Palace fan here. Well done. \\U0001f44f\\U0001f3fc\\U0001f44f\\U0001f3fc', u'The size of that lads', u'Why would you get a stone saying happy birthday on it? The stone will be there for years.', u\"It's beautiful ;-;\", u'This makes me proud to be apart of this sub, and proud to be a red! Up the reds!', u'Like how much are these? Asking for a friend... ', u\"That's awesome. I wish I had known of it, I would gladly have contributed. \", u'Where is Anfiled? ', u'ohh what a beautyy.', u'That leaf looks like an early RPG rat.', u\"Heh, that's quite nice actually\", u'we did it ', u\"Isn't that a memorial?\", u'This is fucking cool!', u'Anfiled lol', u'Incredible', u'simply beautiful!', u\"That's brilliant stuff, well played!\", u'Class that', u'OK this is dope', u'Awesome. Loved it. ', u'I love this sub.  Cheers everyone!', u'Good stuff guys. Even if this website goes under that will be there forever. ', u\"How much did the stone cost? Liverpool is special to me and i'd really love to have my name somewhere on that stadium since me actually being there is kinda hard ...\", u'So close', u'I have a stone in Elisha Scott 3 section. They all look great', u\"Will someone post a damn price for doing something like this? I've seen a few ask and all go ignored..\", u\"That's so fucking dope. Kudos to all involved. YNWA\", u'This makes me so happy, American here but a diehard Red! Weirdly makes me feel like a bigger part of the club from overseas ', u'FUCK IS IT TOO LATE TO DO THIS NOW??', u'Damn I missed out on this! I would have loved to contribute! \\n\\nYNWA from Chicago, USA!!!', u'well this needs to be placed on sidebar', u'wow, this is great!', u'love this,  thanks for sharing!', u'Can we make this the sidebar picture for a while?', u'real nice!', u'Glad I could contribute and glad that this sub will be apart of Anfield for ever.', u\"It's really obvious that we choose the word unified to avoid united, pretty cringy tbh. \", u'[removed]', u'Lol wtf really? ', u'[removed]']\n"
     ]
    }
   ],
   "source": [
    "comments[0]\n",
    "len(comments)\n",
    "print [c[1] for c in comments[:50]]"
   ]
  },
  {
   "cell_type": "code",
   "execution_count": null,
   "metadata": {
    "collapsed": true
   },
   "outputs": [],
   "source": []
  },
  {
   "cell_type": "code",
   "execution_count": 4,
   "metadata": {},
   "outputs": [
    {
     "data": {
      "text/plain": [
       "(u'dp7213g', u'This the meet up point now then? ')"
      ]
     },
     "execution_count": 4,
     "metadata": {},
     "output_type": "execute_result"
    }
   ],
   "source": [
    "comments[1]"
   ]
  },
  {
   "cell_type": "code",
   "execution_count": 42,
   "metadata": {},
   "outputs": [
    {
     "data": {
      "image/png": "[encoded data removed]",
      "text/plain": [
       "<matplotlib.figure.Figure at 0x7fb1dbac0a90>"
      ]
     },
     "metadata": {},
     "output_type": "display_data"
    }
   ],
   "source": [
    "lens = []\n",
    "tokens = []\n",
    "for comment in comments:\n",
    "    text = comment[1]\n",
    "    words = text.split(\" \")\n",
    "    num_words = len(words)\n",
    "    tokens.extend(words)\n",
    "    lens.append(num_words)\n",
    "plt.hist(lens, bins=20)\n",
    "plt.show()    "
   ]
  },
  {
   "cell_type": "code",
   "execution_count": 43,
   "metadata": {},
   "outputs": [
    {
     "name": "stdout",
     "output_type": "stream",
     "text": [
      "160940\n"
     ]
    }
   ],
   "source": [
    "from nltk.corpus import stopwords\n",
    "tokens = [t.lower() for t in tokens]\n",
    "tokens = filter(bool, tokens)\n",
    "print len(tokens)\n",
    "\n",
    "lematized_tokens = [wordnet_lemmatizer.lemmatize(t) for t in tokens]\n",
    "#tokens[:150]"
   ]
  },
  {
   "cell_type": "code",
   "execution_count": 52,
   "metadata": {
    "collapsed": true
   },
   "outputs": [],
   "source": [
    "final_tokens = filter(lambda a: a not in stopwords.words('english'), lematized_tokens)\n",
    "from collections import Counter\n",
    "bow = Counter(final_tokens)"
   ]
  },
  {
   "cell_type": "code",
   "execution_count": 53,
   "metadata": {},
   "outputs": [
    {
     "name": "stdout",
     "output_type": "stream",
     "text": [
      "[(u'wa', 1196), (u'like', 784), (u'get', 614), (u\"it's\", 536), (u'think', 526), (u'player', 518), (u\"he's\", 518), (u'would', 516), (u'good', 488), (u'ha', 475)]\n"
     ]
    }
   ],
   "source": [
    "print(bow.most_common(10))"
   ]
  },
  {
   "cell_type": "code",
   "execution_count": 10,
   "metadata": {},
   "outputs": [
    {
     "data": {
      "text/plain": [
       "13.0"
      ]
     },
     "execution_count": 10,
     "metadata": {},
     "output_type": "execute_result"
    }
   ],
   "source": [
    "numpy.median(lens)"
   ]
  },
  {
   "cell_type": "code",
   "execution_count": 11,
   "metadata": {},
   "outputs": [
    {
     "data": {
      "text/plain": [
       "(u'dp7hrpq',\n",
       " u'Comes to a football a sub to chat shit about football and then tells us to look in a mirror, haha, jog on lad.')"
      ]
     },
     "execution_count": 11,
     "metadata": {},
     "output_type": "execute_result"
    }
   ],
   "source": [
    "comments[100]"
   ]
  },
  {
   "cell_type": "code",
   "execution_count": 15,
   "metadata": {},
   "outputs": [
    {
     "data": {
      "text/plain": [
       "22.212956675268234"
      ]
     },
     "execution_count": 15,
     "metadata": {},
     "output_type": "execute_result"
    }
   ],
   "source": [
    "numpy.mean(lens)"
   ]
  },
  {
   "cell_type": "code",
   "execution_count": 16,
   "metadata": {},
   "outputs": [
    {
     "data": {
      "text/plain": [
       "7363"
      ]
     },
     "execution_count": 16,
     "metadata": {},
     "output_type": "execute_result"
    }
   ],
   "source": [
    "len(comments)"
   ]
  },
  {
   "cell_type": "code",
   "execution_count": 19,
   "metadata": {
    "collapsed": true
   },
   "outputs": [],
   "source": [
    "all_text = \"\"\n",
    "for comment in comments:\n",
    "    all_text += comment[1]\n",
    "wordcloud = WordCloud(width=1000, height=500).generate(all_text)"
   ]
  },
  {
   "cell_type": "code",
   "execution_count": 20,
   "metadata": {},
   "outputs": [
    {
     "data": {
      "text/plain": [
       "<matplotlib.image.AxesImage at 0x7fb1dbafa150>"
      ]
     },
     "execution_count": 20,
     "metadata": {},
     "output_type": "execute_result"
    },
    {
     "data": {
      "image/png": "[encoded data removed]",
      "text/plain": [
       "<matplotlib.figure.Figure at 0x7fb1dfd18690>"
      ]
     },
     "metadata": {},
     "output_type": "display_data"
    }
   ],
   "source": [
    "plt.imshow(wordcloud)"
   ]
  },
  {
   "cell_type": "code",
   "execution_count": null,
   "metadata": {
    "collapsed": true
   },
   "outputs": [],
   "source": []
  }
 ],
 "metadata": {
  "kernelspec": {
   "display_name": "Python 2",
   "language": "python",
   "name": "python2"
  },
  "language_info": {
   "codemirror_mode": {
    "name": "ipython",
    "version": 2
   },
   "file_extension": ".py",
   "mimetype": "text/x-python",
   "name": "python",
   "nbconvert_exporter": "python",
   "pygments_lexer": "ipython2",
   "version": "2.7.12"
  }
 },
 "nbformat": 4,
 "nbformat_minor": 2
}
